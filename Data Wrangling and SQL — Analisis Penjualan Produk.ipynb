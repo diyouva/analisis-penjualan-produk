{
 "cells": [
  {
   "cell_type": "code",
   "execution_count": null,
   "metadata": {},
   "outputs": [],
   "source": [
    "# import modules\n",
    "import sqlite3\n",
    "import pandas as pd\n",
    "import seaborn as sns\n",
    "from matplotlib import pyplot as plt\n",
    "import numpy as np"
   ]
  },
  {
   "cell_type": "markdown",
   "metadata": {},
   "source": [
    "# Objektif\n",
    "1. Menentukan 5 item penjualan terbesar per kota/negara\n",
    "\n",
    "2. menentukan seller penjualan terbesar per kota/negara\n",
    "\n",
    "3. menentukan customer pembelian terbesar untuk mendapatnya program prioritas"
   ]
  },
  {
   "cell_type": "markdown",
   "metadata": {},
   "source": [
    "# Mengakses Dataset"
   ]
  },
  {
   "cell_type": "code",
   "execution_count": null,
   "metadata": {},
   "outputs": [],
   "source": [
    "# importing file path\n",
    "data = 'olist.db'\n",
    "\n",
    "# create a SQL connection to SQLite database\n",
    "con = sqlite3.connect(data)\n",
    "\n",
    "# creating cursor\n",
    "cur = con.cursor()\n",
    "\n",
    "# reading table names\n",
    "table_list = [a for a in cur.execute(\"SELECT name FROM sqlite_master WHERE type='table'\")]\n",
    "print(table_list)"
   ]
  },
  {
   "cell_type": "code",
   "execution_count": null,
   "metadata": {},
   "outputs": [],
   "source": [
    "# Akses Dataset\n",
    "query = \"\"\"\n",
    "SELECT\n",
    "    A.ORDER_ID,\n",
    "    A.ORDER_ITEM_ID,\n",
    "    D.SELLER_ID,\n",
    "    D.SELLER_CITY,\n",
    "    D.SELLER_STATE,\n",
    "    B.CUSTOMER_ID,\n",
    "    E.CUSTOMER_CITY,\n",
    "    E.CUSTOMER_STATE,\n",
    "    C.PRODUCT_ID,\n",
    "    F.PRODUCT_CATEGORY_NAME_ENGLISH AS product_category_name,\n",
    "    A.PRICE,\n",
    "    A.FREIGHT_VALUE\n",
    "FROM\n",
    "    OLIST_ORDER_ITEMS_DATASET A,\n",
    "    OLIST_ORDER_DATASET B,\n",
    "    OLIST_PRODUCTS_DATASET C,\n",
    "    OLIST_SELLERS_DATASET D,\n",
    "    OLIST_ORDER_CUSTOMER_DATASET E,\n",
    "    PRODUCT_CATEGORY_NAME_TRANSLATION F\n",
    "WHERE\n",
    "A.ORDER_ID = B.ORDER_ID\n",
    "AND B.CUSTOMER_ID = E.CUSTOMER_ID\n",
    "AND A.PRODUCT_ID = C.PRODUCT_ID\n",
    "AND A.SELLER_ID = D.SELLER_ID\n",
    "AND C.PRODUCT_CATEGORY_NAME = F.PRODUCT_CATEGORY_NAME\n",
    "AND B.ORDER_STATUS NOT IN ('CANCELED', 'UNAVAILABLE')\n",
    "\"\"\"\n",
    "# Dalam proses pemahaman data, ditemukan bahwa tidak semua order diproses sehingga order_status dalam penelitian ini mengeluarkan order status 'canceled' dan 'unavailable'\n",
    "\n",
    "data = pd.read_sql_query(query, con)\n",
    "data.head(5)"
   ]
  },
  {
   "cell_type": "markdown",
   "metadata": {},
   "source": [
    "# Eksplorasi dan Pemrosesan Data"
   ]
  },
  {
   "cell_type": "code",
   "execution_count": null,
   "metadata": {},
   "outputs": [],
   "source": [
    "# Identifikasi NaN\n",
    "data.info()"
   ]
  },
  {
   "cell_type": "code",
   "execution_count": null,
   "metadata": {},
   "outputs": [],
   "source": [
    "# Memeriksa Niilai NaN pada Data\n",
    "data.isnull().sum().sort_values(ascending=False)/len(data)*100"
   ]
  },
  {
   "cell_type": "code",
   "execution_count": null,
   "metadata": {},
   "outputs": [],
   "source": [
    "# Identifikasi outlier\n",
    "data.describe(include=\"all\").T"
   ]
  },
  {
   "cell_type": "code",
   "execution_count": null,
   "metadata": {},
   "outputs": [],
   "source": [
    "sns.boxplot(data['price'])"
   ]
  },
  {
   "cell_type": "code",
   "execution_count": null,
   "metadata": {},
   "outputs": [],
   "source": [
    "sns.boxplot(data['freight_value'])"
   ]
  },
  {
   "cell_type": "code",
   "execution_count": null,
   "metadata": {},
   "outputs": [],
   "source": [
    "# IQR\n",
    "Q1_freight_value = np.percentile(data['freight_value'], 25, interpolation= 'midpoint')\n",
    "Q3_freight_value = np.percentile(data['freight_value'], 75, interpolation= 'midpoint')\n",
    "IQR_freight_value = Q3_freight_value - Q1_freight_value\n",
    "\n",
    "# Removing Outlier\n",
    "data = data[(data['freight_value'] <= (Q3_freight_value+1.5*IQR_freight_value)) & (data['freight_value'] >= (Q1_freight_value-1.5*IQR_freight_value))]"
   ]
  },
  {
   "cell_type": "code",
   "execution_count": null,
   "metadata": {},
   "outputs": [],
   "source": [
    "# IQR\n",
    "Q1_price = np.percentile(data['price'], 25, interpolation= 'midpoint')\n",
    "Q3_price = np.percentile(data['price'], 75, interpolation= 'midpoint')\n",
    "IQR_price = Q3_price - Q1_price\n",
    "\n",
    "# Removing Outlier\n",
    "data = data[(data['price'] <= (Q3_price+1.5*IQR_price)) & (data['freight_value'] >= (Q1_price-1.5*IQR_price))]"
   ]
  },
  {
   "cell_type": "code",
   "execution_count": null,
   "metadata": {},
   "outputs": [],
   "source": [
    "# Identifikasi Data Duplicate\n",
    "data[data.duplicated(keep=False)].head(20) # Tidak terdapat duplikasi data"
   ]
  },
  {
   "cell_type": "markdown",
   "metadata": {},
   "source": [
    "# Tujuan Analisis"
   ]
  },
  {
   "cell_type": "markdown",
   "metadata": {},
   "source": [
    "1. Menentukan 5 item penjualan terbesar (berdasarkan total harga, jumlah item terjual dan berdasarkan negara)"
   ]
  },
  {
   "cell_type": "code",
   "execution_count": null,
   "metadata": {},
   "outputs": [],
   "source": [
    "# mempersiapkan data\n",
    "penjualan_berdasarkan_negara = data[['product_id', 'product_category_name', 'seller_state', 'customer_state', 'order_item_id', 'price']]\n",
    "penjualan_berdasarkan_negara['total'] = penjualan_berdasarkan_negara['order_item_id'] * penjualan_berdasarkan_negara['price']\n",
    "\n",
    "# Penjualan terbesar berdasarkan total nilai (price * jumlah item)\n",
    "penjualan_berdasarkan_negara.groupby(['product_category_name'])['order_item_id','total'].sum().sort_values(by='total',ascending=False).head(5)"
   ]
  },
  {
   "cell_type": "code",
   "execution_count": null,
   "metadata": {},
   "outputs": [],
   "source": [
    "# Penjualan terbesar berdasarkan jumlah item terbesar\n",
    "penjualan_berdasarkan_negara.groupby(['product_category_name'])['order_item_id','total'].sum().sort_values(by='order_item_id',ascending=False).head(5)"
   ]
  },
  {
   "cell_type": "code",
   "execution_count": null,
   "metadata": {},
   "outputs": [],
   "source": [
    "# Penjualan terbesar berdasarkan negara seller \n",
    "penjualan_berdasarkan_negara.groupby(['seller_state'])['order_item_id','total'].sum().sort_values(by='total',ascending=False).head(5)"
   ]
  },
  {
   "cell_type": "code",
   "execution_count": null,
   "metadata": {},
   "outputs": [],
   "source": [
    "# Penjualan terbesar berdasarkan negara customer\n",
    "penjualan_berdasarkan_negara.groupby(['customer_state'])['order_item_id','total'].sum().sort_values(by='total',ascending=False).head(5)"
   ]
  },
  {
   "cell_type": "markdown",
   "metadata": {},
   "source": [
    "2. menentukan seller penjualan terbesar per kota/negara"
   ]
  },
  {
   "cell_type": "code",
   "execution_count": null,
   "metadata": {},
   "outputs": [],
   "source": [
    "# mempersiapkan data\n",
    "seller = data[['seller_id', 'seller_city', 'seller_state', 'product_category_name', 'order_item_id', 'price', 'freight_value']]\n",
    "seller['total_price'] = seller['order_item_id'] * seller['price']\n"
   ]
  },
  {
   "cell_type": "code",
   "execution_count": 46,
   "metadata": {},
   "outputs": [
    {
     "name": "stderr",
     "output_type": "stream",
     "text": [
      "C:\\Users\\KomputerSKKK\\AppData\\Local\\Temp\\ipykernel_13532\\1346930050.py:2: FutureWarning: Indexing with multiple keys (implicitly converted to a tuple of keys) will be deprecated, use a list instead.\n",
      "  seller.groupby(['seller_id','seller_city', 'seller_state'])['seller_id','seller_city', 'seller_state','total_price'].sum().sort_values(by='total_price', ascending=False).head(5)\n"
     ]
    },
    {
     "data": {
      "text/html": [
       "<div>\n",
       "<style scoped>\n",
       "    .dataframe tbody tr th:only-of-type {\n",
       "        vertical-align: middle;\n",
       "    }\n",
       "\n",
       "    .dataframe tbody tr th {\n",
       "        vertical-align: top;\n",
       "    }\n",
       "\n",
       "    .dataframe thead th {\n",
       "        text-align: right;\n",
       "    }\n",
       "</style>\n",
       "<table border=\"1\" class=\"dataframe\">\n",
       "  <thead>\n",
       "    <tr style=\"text-align: right;\">\n",
       "      <th></th>\n",
       "      <th></th>\n",
       "      <th></th>\n",
       "      <th>total_price</th>\n",
       "    </tr>\n",
       "    <tr>\n",
       "      <th>seller_id</th>\n",
       "      <th>seller_city</th>\n",
       "      <th>seller_state</th>\n",
       "      <th></th>\n",
       "    </tr>\n",
       "  </thead>\n",
       "  <tbody>\n",
       "    <tr>\n",
       "      <th>4a3ca9315b744ce9f8e9374361493884</th>\n",
       "      <th>ibitinga</th>\n",
       "      <th>SP</th>\n",
       "      <td>190737.17</td>\n",
       "    </tr>\n",
       "    <tr>\n",
       "      <th>da8622b14eb17ae2831f4ac5b9dab84a</th>\n",
       "      <th>piracicaba</th>\n",
       "      <th>SP</th>\n",
       "      <td>167264.45</td>\n",
       "    </tr>\n",
       "    <tr>\n",
       "      <th>4869f7a5dfa277a7dca6462dcf3b52b2</th>\n",
       "      <th>guariba</th>\n",
       "      <th>SP</th>\n",
       "      <td>151140.33</td>\n",
       "    </tr>\n",
       "    <tr>\n",
       "      <th>1f50f920176fa81dab994f9023523100</th>\n",
       "      <th>sao jose do rio preto</th>\n",
       "      <th>SP</th>\n",
       "      <td>149775.84</td>\n",
       "    </tr>\n",
       "    <tr>\n",
       "      <th>7a67c85e85bb2ce8582c35f2203ad736</th>\n",
       "      <th>sao paulo</th>\n",
       "      <th>SP</th>\n",
       "      <td>136564.78</td>\n",
       "    </tr>\n",
       "  </tbody>\n",
       "</table>\n",
       "</div>"
      ],
      "text/plain": [
       "                                                                     total_price\n",
       "seller_id                        seller_city           seller_state             \n",
       "4a3ca9315b744ce9f8e9374361493884 ibitinga              SP              190737.17\n",
       "da8622b14eb17ae2831f4ac5b9dab84a piracicaba            SP              167264.45\n",
       "4869f7a5dfa277a7dca6462dcf3b52b2 guariba               SP              151140.33\n",
       "1f50f920176fa81dab994f9023523100 sao jose do rio preto SP              149775.84\n",
       "7a67c85e85bb2ce8582c35f2203ad736 sao paulo             SP              136564.78"
      ]
     },
     "execution_count": 46,
     "metadata": {},
     "output_type": "execute_result"
    }
   ],
   "source": [
    "# top 5 seller dan negaranya\n",
    "seller.groupby(['seller_id','seller_city', 'seller_state'])['seller_id','seller_city', 'seller_state','total_price'].sum().sort_values(by='total_price', ascending=False).head(5)"
   ]
  },
  {
   "cell_type": "markdown",
   "metadata": {},
   "source": [
    "3. menentukan customer pembelian terbesar untuk mendapatnya program prioritas"
   ]
  },
  {
   "cell_type": "code",
   "execution_count": null,
   "metadata": {},
   "outputs": [],
   "source": [
    "# mempersiapkan data\n",
    "customer = data[['customer_id', 'customer_city', 'customer_state', 'product_category_name', 'order_item_id', 'price', 'freight_value']]\n",
    "customer['total_price'] = customer['order_item_id'] * customer['price']"
   ]
  },
  {
   "cell_type": "code",
   "execution_count": 47,
   "metadata": {},
   "outputs": [
    {
     "name": "stderr",
     "output_type": "stream",
     "text": [
      "C:\\Users\\KomputerSKKK\\AppData\\Local\\Temp\\ipykernel_13532\\1505513437.py:2: FutureWarning: Indexing with multiple keys (implicitly converted to a tuple of keys) will be deprecated, use a list instead.\n",
      "  customer.groupby(['customer_id', 'customer_city', 'customer_state'])['customer_id', 'customer_city', 'customer_state','total_price'].sum().sort_values(by='total_price', ascending=False).head(5)\n"
     ]
    },
    {
     "data": {
      "text/html": [
       "<div>\n",
       "<style scoped>\n",
       "    .dataframe tbody tr th:only-of-type {\n",
       "        vertical-align: middle;\n",
       "    }\n",
       "\n",
       "    .dataframe tbody tr th {\n",
       "        vertical-align: top;\n",
       "    }\n",
       "\n",
       "    .dataframe thead th {\n",
       "        text-align: right;\n",
       "    }\n",
       "</style>\n",
       "<table border=\"1\" class=\"dataframe\">\n",
       "  <thead>\n",
       "    <tr style=\"text-align: right;\">\n",
       "      <th></th>\n",
       "      <th></th>\n",
       "      <th></th>\n",
       "      <th>total_price</th>\n",
       "    </tr>\n",
       "    <tr>\n",
       "      <th>customer_id</th>\n",
       "      <th>customer_city</th>\n",
       "      <th>customer_state</th>\n",
       "      <th></th>\n",
       "    </tr>\n",
       "  </thead>\n",
       "  <tbody>\n",
       "    <tr>\n",
       "      <th>be1b70680b9f9694d8c70f41fa3dc92b</th>\n",
       "      <th>sao paulo</th>\n",
       "      <th>SP</th>\n",
       "      <td>21000.0</td>\n",
       "    </tr>\n",
       "    <tr>\n",
       "      <th>bd5d39761aa56689a265d95d8d32b8be</th>\n",
       "      <th>goiania</th>\n",
       "      <th>GO</th>\n",
       "      <td>20727.0</td>\n",
       "    </tr>\n",
       "    <tr>\n",
       "      <th>91f92cfee46b79581b05aa974dd57ce5</th>\n",
       "      <th>curitiba</th>\n",
       "      <th>PR</th>\n",
       "      <td>8424.0</td>\n",
       "    </tr>\n",
       "    <tr>\n",
       "      <th>10de381f8a8d23fff822753305f71cae</th>\n",
       "      <th>uniao da vitoria</th>\n",
       "      <th>PR</th>\n",
       "      <td>7858.8</td>\n",
       "    </tr>\n",
       "    <tr>\n",
       "      <th>daf15f1b940cc6a72ba558f093dc00dd</th>\n",
       "      <th>celso ramos</th>\n",
       "      <th>SC</th>\n",
       "      <td>6232.2</td>\n",
       "    </tr>\n",
       "  </tbody>\n",
       "</table>\n",
       "</div>"
      ],
      "text/plain": [
       "                                                                  total_price\n",
       "customer_id                      customer_city    customer_state             \n",
       "be1b70680b9f9694d8c70f41fa3dc92b sao paulo        SP                  21000.0\n",
       "bd5d39761aa56689a265d95d8d32b8be goiania          GO                  20727.0\n",
       "91f92cfee46b79581b05aa974dd57ce5 curitiba         PR                   8424.0\n",
       "10de381f8a8d23fff822753305f71cae uniao da vitoria PR                   7858.8\n",
       "daf15f1b940cc6a72ba558f093dc00dd celso ramos      SC                   6232.2"
      ]
     },
     "execution_count": 47,
     "metadata": {},
     "output_type": "execute_result"
    }
   ],
   "source": [
    "# top 5 customer dan negaranya\n",
    "customer.groupby(['customer_id', 'customer_city', 'customer_state'])['customer_id', 'customer_city', 'customer_state','total_price'].sum().sort_values(by='total_price', ascending=False).head(5)"
   ]
  }
 ],
 "metadata": {
  "kernelspec": {
   "display_name": "Python 3.10.4 64-bit",
   "language": "python",
   "name": "python3"
  },
  "language_info": {
   "codemirror_mode": {
    "name": "ipython",
    "version": 3
   },
   "file_extension": ".py",
   "mimetype": "text/x-python",
   "name": "python",
   "nbconvert_exporter": "python",
   "pygments_lexer": "ipython3",
   "version": "3.10.4"
  },
  "orig_nbformat": 4,
  "vscode": {
   "interpreter": {
    "hash": "d2c5e98b7c1014d13e0bebe4110d081b1f8ccfa6c9826bbe9dd927ab5e932a30"
   }
  }
 },
 "nbformat": 4,
 "nbformat_minor": 2
}
